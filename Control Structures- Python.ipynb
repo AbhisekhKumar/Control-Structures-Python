{
 "cells": [
  {
   "cell_type": "markdown",
   "id": "a64384ae",
   "metadata": {},
   "source": [
    "#### List via conventional iteration vS List Comprehension"
   ]
  },
  {
   "cell_type": "code",
   "execution_count": 55,
   "id": "a9535be6",
   "metadata": {},
   "outputs": [
    {
     "name": "stdout",
     "output_type": "stream",
     "text": [
      "['old', 'apple', 'item', 'euphoria']\n"
     ]
    }
   ],
   "source": [
    "input_list= [\"wood\",\"old\", \"apple\",\"big\", \"item\",\"euphoria\"]\n",
    "\n",
    "new_list=[]\n",
    "\n",
    "for index in input_list:\n",
    "    if index[0] in 'aeiou':\n",
    "        new_list.append(index)\n",
    "print(new_list)        \n"
   ]
  },
  {
   "cell_type": "code",
   "execution_count": 31,
   "id": "e809a02a",
   "metadata": {},
   "outputs": [
    {
     "data": {
      "text/plain": [
       "['old', 'apple', 'item', 'euphoria']"
      ]
     },
     "execution_count": 31,
     "metadata": {},
     "output_type": "execute_result"
    }
   ],
   "source": [
    "new_list=[index for index in input_list if index[0] in \"aeiou\"]\n",
    "new_list"
   ]
  },
  {
   "cell_type": "markdown",
   "id": "06aaf56b",
   "metadata": {},
   "source": [
    "#### Zip function: to iterate over multiple objects together :)"
   ]
  },
  {
   "cell_type": "code",
   "execution_count": 57,
   "id": "cb5b2d27",
   "metadata": {},
   "outputs": [
    {
     "name": "stdout",
     "output_type": "stream",
     "text": [
      "wood sWeet 1\n",
      "old Lovely 2\n",
      "apple alphA 3\n"
     ]
    }
   ],
   "source": [
    "list_1= [\"wood\",\"old\", \"apple\",\"big\", \"item\",\"euphoria\"]\n",
    "list_2= ['sWeet', 'Lovely', 'alphA', 'DONe', 'BoXeR']\n",
    "list_3= [1,2,3]\n",
    "\n",
    "for i, j, k in zip(list_1,list_2, list_3):\n",
    "    print(i, j, k)"
   ]
  },
  {
   "cell_type": "code",
   "execution_count": null,
   "id": "57897be9",
   "metadata": {},
   "outputs": [],
   "source": [
    "#iterates no. of times corrosponding to the list having lowest no. of items"
   ]
  },
  {
   "cell_type": "markdown",
   "id": "92813091",
   "metadata": {},
   "source": [
    "#### Exercise list comprehension"
   ]
  },
  {
   "cell_type": "code",
   "execution_count": 46,
   "id": "2cc01183",
   "metadata": {},
   "outputs": [
    {
     "name": "stdout",
     "output_type": "stream",
     "text": [
      "2\n"
     ]
    },
    {
     "data": {
      "text/plain": [
       "[1, 4]"
      ]
     },
     "execution_count": 46,
     "metadata": {},
     "output_type": "execute_result"
    }
   ],
   "source": [
    "n=int(input())\n",
    "\n",
    "list1=[index**2 for index in range(1,n+1)]\n",
    "\n",
    "list1"
   ]
  },
  {
   "cell_type": "markdown",
   "id": "ed457bb6",
   "metadata": {},
   "source": [
    "#### Example Dictionary comprehension and Set comprehension "
   ]
  },
  {
   "cell_type": "code",
   "execution_count": 80,
   "id": "f0f00d1f",
   "metadata": {},
   "outputs": [
    {
     "name": "stdout",
     "output_type": "stream",
     "text": [
      "{'sWeet': 5, 'Lovely': 6, 'alphA': 5, 'DONe': 4, 'BoXeR': 5}\n"
     ]
    },
    {
     "data": {
      "text/plain": [
       "dict"
      ]
     },
     "execution_count": 80,
     "metadata": {},
     "output_type": "execute_result"
    }
   ],
   "source": [
    "list_a= ['sWeet', 'Lovely', 'alphA', 'DONe', 'BoXeR']\n",
    "\n",
    "#creating dictionary >> uses {} and ':' as {: o/p - o/p _for _if _else }\n",
    "# iterating over a list\n",
    "# dict=  {key1:value1, key2:value2, key3: value3, .......}\n",
    "dict1={index : len(index) for index in list_a }\n",
    "print(dict1)\n",
    "\n",
    "type(dict1) # dict\n",
    "\n",
    "# for loop syntax has to on the left side\n",
    "# wont work with and error in \n",
    "#dict1={len(index) for index in list_a : index}"
   ]
  },
  {
   "cell_type": "markdown",
   "id": "a2e2643e",
   "metadata": {},
   "source": [
    "#### Now a set{}"
   ]
  },
  {
   "cell_type": "code",
   "execution_count": 90,
   "id": "c68cdf89",
   "metadata": {},
   "outputs": [
    {
     "name": "stdout",
     "output_type": "stream",
     "text": [
      "{4, 5, 6}\n"
     ]
    },
    {
     "data": {
      "text/plain": [
       "set"
      ]
     },
     "execution_count": 90,
     "metadata": {},
     "output_type": "execute_result"
    }
   ],
   "source": [
    "# Now a set{}\n",
    "dict1={len(index) for index in list_a}\n",
    "print(dict1)\n",
    "\n",
    "type(dict1) #set"
   ]
  },
  {
   "cell_type": "code",
   "execution_count": 89,
   "id": "5008e719",
   "metadata": {},
   "outputs": [
    {
     "ename": "SyntaxError",
     "evalue": "invalid syntax (Temp/ipykernel_212/1134218329.py, line 2)",
     "output_type": "error",
     "traceback": [
      "\u001b[1;36m  File \u001b[1;32m\"C:\\Users\\ABHISH~1\\AppData\\Local\\Temp/ipykernel_212/1134218329.py\"\u001b[1;36m, line \u001b[1;32m2\u001b[0m\n\u001b[1;33m    dict1={len(index) for index in list_a : len(index) for index in list_a }\u001b[0m\n\u001b[1;37m                                          ^\u001b[0m\n\u001b[1;31mSyntaxError\u001b[0m\u001b[1;31m:\u001b[0m invalid syntax\n"
     ]
    }
   ],
   "source": [
    "# for loop cant be onn the left side :: error\n",
    "dict1={len(index) for index in list_a : len(index) for index in list_a }\n",
    "print(dict1)"
   ]
  },
  {
   "cell_type": "code",
   "execution_count": 86,
   "id": "897a69fe",
   "metadata": {},
   "outputs": [
    {
     "name": "stdout",
     "output_type": "stream",
     "text": [
      "<generator object <genexpr> at 0x0000002B4D242A50>\n"
     ]
    }
   ],
   "source": [
    "# No tuple comprehensions\n",
    "dict1=(len(index) for index in list_a )\n",
    "print(dict1)"
   ]
  },
  {
   "cell_type": "markdown",
   "id": "4ee63f3f",
   "metadata": {},
   "source": [
    "#### we can exclusively iterate over either keys or values of dictionary"
   ]
  },
  {
   "cell_type": "code",
   "execution_count": 95,
   "id": "6c2ce020",
   "metadata": {},
   "outputs": [
    {
     "name": "stdout",
     "output_type": "stream",
     "text": [
      "{'sWeet': 5, 'Lovely': 6, 'alphA': 5, 'DONe': 4, 'BoXeR': 5}\n"
     ]
    }
   ],
   "source": [
    "dict1={index: len(index) for index in list_a }\n",
    "print(dict1)"
   ]
  },
  {
   "cell_type": "code",
   "execution_count": null,
   "id": "5b10257d",
   "metadata": {},
   "outputs": [],
   "source": [
    "dict1"
   ]
  },
  {
   "cell_type": "code",
   "execution_count": 97,
   "id": "ce3d47b3",
   "metadata": {},
   "outputs": [
    {
     "name": "stdout",
     "output_type": "stream",
     "text": [
      "sWeet\n",
      "Lovely\n",
      "alphA\n",
      "DONe\n",
      "BoXeR\n"
     ]
    }
   ],
   "source": [
    "#get the keys out list1 dictinary\n",
    "for dict_values in dict1.keys(): # we can exclusively iterate over either keys or values of dictionary\n",
    "    print(dict_values)"
   ]
  },
  {
   "cell_type": "markdown",
   "id": "c88f92d5",
   "metadata": {},
   "source": [
    "#### Create a dictionay where the keys are multiples of 3 among the first 100 natural nos. and each value is the cube of the key."
   ]
  },
  {
   "cell_type": "code",
   "execution_count": 104,
   "id": "ed66540c",
   "metadata": {},
   "outputs": [
    {
     "name": "stdout",
     "output_type": "stream",
     "text": [
      "{3: 27, 6: 216, 9: 729, 12: 1728, 15: 3375, 18: 5832, 21: 9261, 24: 13824, 27: 19683, 30: 27000, 33: 35937, 36: 46656, 39: 59319, 42: 74088, 45: 91125, 48: 110592, 51: 132651, 54: 157464, 57: 185193, 60: 216000, 63: 250047, 66: 287496, 69: 328509, 72: 373248, 75: 421875, 78: 474552, 81: 531441, 84: 592704, 87: 658503, 90: 729000, 93: 804357, 96: 884736, 99: 970299}\n"
     ]
    }
   ],
   "source": [
    "print({ index :index**3 for index in range(1,101) if index%3==0 })"
   ]
  },
  {
   "cell_type": "markdown",
   "id": "f6b1a835",
   "metadata": {},
   "source": [
    "#### Nested FOR LOOP in list comprehensions"
   ]
  },
  {
   "cell_type": "code",
   "execution_count": 106,
   "id": "90525b24",
   "metadata": {},
   "outputs": [
    {
     "name": "stdout",
     "output_type": "stream",
     "text": [
      "['ad', 'ae', 'af', 'bd', 'be', 'bf', 'cd', 'ce', 'cf']\n"
     ]
    }
   ],
   "source": [
    "print([i+j for i in \"abc\" for j in \"def\"])"
   ]
  },
  {
   "cell_type": "code",
   "execution_count": 118,
   "id": "b12d1dfa",
   "metadata": {},
   "outputs": [
    {
     "name": "stdout",
     "output_type": "stream",
     "text": [
      "['ad', 'ae', 'af', 'bd', 'be', 'bf', 'cd', 'ce', 'cf']\n"
     ]
    }
   ],
   "source": [
    "newList= []\n",
    "for i in 'abc':\n",
    "    for j in 'def':\n",
    "        newList.append(i+j)\n",
    "print(newList)\n",
    "        "
   ]
  }
 ],
 "metadata": {
  "kernelspec": {
   "display_name": "Python 3 (ipykernel)",
   "language": "python",
   "name": "python3"
  },
  "language_info": {
   "codemirror_mode": {
    "name": "ipython",
    "version": 3
   },
   "file_extension": ".py",
   "mimetype": "text/x-python",
   "name": "python",
   "nbconvert_exporter": "python",
   "pygments_lexer": "ipython3",
   "version": "3.9.7"
  }
 },
 "nbformat": 4,
 "nbformat_minor": 5
}
